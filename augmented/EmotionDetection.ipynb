{
 "cells": [
  {
   "cell_type": "code",
   "execution_count": 89,
   "id": "c66268cd-b33d-4066-809e-7b55bbfb3d44",
   "metadata": {},
   "outputs": [
    {
     "ename": "ModuleNotFoundError",
     "evalue": "No module named 'keras.wrappers'",
     "output_type": "error",
     "traceback": [
      "\u001b[0;31m---------------------------------------------------------------------------\u001b[0m",
      "\u001b[0;31mModuleNotFoundError\u001b[0m                       Traceback (most recent call last)",
      "Cell \u001b[0;32mIn[89], line 15\u001b[0m\n\u001b[1;32m     13\u001b[0m \u001b[38;5;28;01mfrom\u001b[39;00m \u001b[38;5;21;01mtensorflow\u001b[39;00m\u001b[38;5;21;01m.\u001b[39;00m\u001b[38;5;21;01mkeras\u001b[39;00m\u001b[38;5;21;01m.\u001b[39;00m\u001b[38;5;21;01mutils\u001b[39;00m \u001b[38;5;28;01mimport\u001b[39;00m to_categorical\n\u001b[1;32m     14\u001b[0m \u001b[38;5;28;01mfrom\u001b[39;00m \u001b[38;5;21;01mtensorflow\u001b[39;00m\u001b[38;5;21;01m.\u001b[39;00m\u001b[38;5;21;01mkeras\u001b[39;00m\u001b[38;5;21;01m.\u001b[39;00m\u001b[38;5;21;01mpreprocessing\u001b[39;00m\u001b[38;5;21;01m.\u001b[39;00m\u001b[38;5;21;01msequence\u001b[39;00m \u001b[38;5;28;01mimport\u001b[39;00m pad_sequences\n\u001b[0;32m---> 15\u001b[0m \u001b[38;5;28;01mfrom\u001b[39;00m \u001b[38;5;21;01mkeras\u001b[39;00m\u001b[38;5;21;01m.\u001b[39;00m\u001b[38;5;21;01mwrappers\u001b[39;00m\u001b[38;5;21;01m.\u001b[39;00m\u001b[38;5;21;01mscikit_learn\u001b[39;00m \u001b[38;5;28;01mimport\u001b[39;00m KerasClassifier\n\u001b[1;32m     16\u001b[0m \u001b[38;5;28;01mfrom\u001b[39;00m \u001b[38;5;21;01msklearn\u001b[39;00m\u001b[38;5;21;01m.\u001b[39;00m\u001b[38;5;21;01mmodel_selection\u001b[39;00m \u001b[38;5;28;01mimport\u001b[39;00m GridSearchCV\n",
      "\u001b[0;31mModuleNotFoundError\u001b[0m: No module named 'keras.wrappers'"
     ]
    }
   ],
   "source": [
    "import librosa\n",
    "import os\n",
    "import numpy as np\n",
    "import pandas as pd\n",
    "from tqdm import tqdm\n",
    "from sklearn.preprocessing import StandardScaler\n",
    "from sklearn.preprocessing import MinMaxScaler\n",
    "from sklearn.decomposition import PCA\n",
    "from sklearn.model_selection import train_test_split\n",
    "from tensorflow.keras.models import Sequential\n",
    "from tensorflow.keras.layers import Conv2D, MaxPooling2D, Flatten, Dense, Dropout\n",
    "from keras.layers import Dense, Conv1D, MaxPooling1D, Flatten, Dropout\n",
    "from tensorflow.keras.utils import to_categorical\n",
    "from tensorflow.keras.preprocessing.sequence import pad_sequences\n",
    "from keras.wrappers.scikit_learn import KerasClassifier\n",
    "from sklearn.model_selection import GridSearchCV"
   ]
  },
  {
   "cell_type": "code",
   "execution_count": 23,
   "id": "fdde29a8-01a5-499c-8e0f-265ce89b084a",
   "metadata": {},
   "outputs": [],
   "source": [
    "# Function to extract features from an audio file\n",
    "def extract_features(file_path):\n",
    "    y, sr = librosa.load(file_path)\n",
    "    \n",
    "    # Extract features\n",
    "    tempo, _ = librosa.beat.beat_track(y=y, sr=sr)\n",
    "    rms = np.mean(librosa.feature.rms(y=y))\n",
    "    chromagram = np.mean(librosa.feature.chroma_stft(y=y, sr=sr).T, axis=0)\n",
    "    mel_spectrogram = np.mean(librosa.feature.melspectrogram(y=y, sr=sr).T, axis=0)\n",
    "    spectral_centroid = np.mean(librosa.feature.spectral_centroid(y=y, sr=sr))\n",
    "    spectral_contrast = np.mean(librosa.feature.spectral_contrast(y=y, sr=sr).T, axis=0)\n",
    "    spectral_rolloff = np.mean(librosa.feature.spectral_rolloff(y=y, sr=sr))\n",
    "    zero_crossing_rate = np.mean(librosa.feature.zero_crossing_rate(y))\n",
    "    harmonics = np.mean(librosa.effects.harmonic(y))\n",
    "    mfccs = np.mean(librosa.feature.mfcc(y=y, sr=sr).T, axis=0)\n",
    "    \n",
    "    return [tempo, rms, *chromagram, *mel_spectrogram, spectral_centroid, *spectral_contrast, spectral_rolloff, zero_crossing_rate, harmonics, *mfccs]"
   ]
  },
  {
   "cell_type": "code",
   "execution_count": 24,
   "id": "ee806297-cb4e-47aa-a4df-9b6dde0cb3c8",
   "metadata": {},
   "outputs": [],
   "source": [
    "dataset_directory = '/home/jovyan/teaching_material/MScProject/audio'\n",
    "audio_files = [dataset_directory+'/'+f for f in os.listdir(dataset_directory) if f.endswith('.mp3')]\n",
    "labels = [int(f.split('/audio/')[1].split('_')[0].replace('Q', '')) for f in audio_files]"
   ]
  },
  {
   "cell_type": "code",
   "execution_count": 25,
   "id": "08cddcb0-41f0-40c6-a5d7-86386c523f00",
   "metadata": {},
   "outputs": [],
   "source": [
    "# Extract features for each audio file\n",
    "features = [extract_features(file) for file in audio_files]"
   ]
  },
  {
   "cell_type": "code",
   "execution_count": 28,
   "id": "515dfe1b-2d54-446a-a920-527f295349d2",
   "metadata": {},
   "outputs": [],
   "source": [
    "# Create a DataFrame for the features\n",
    "columns = (['tempo', 'rms'] +\n",
    "           [f'chromagram_{i}' for i in range(12)] +\n",
    "           [f'mel_spectrogram_{i}' for i in range(128)] +\n",
    "           ['spectral_centroid'] +\n",
    "           [f'spectral_contrast_{i}' for i in range(7)] +\n",
    "           ['spectral_rolloff', 'zero_crossing_rate', 'harmonics'] +\n",
    "           [f'mfcc_{i}' for i in range(20)])"
   ]
  },
  {
   "cell_type": "code",
   "execution_count": 31,
   "id": "7a3f088d-ea3e-49e2-8424-dfb2ec8f408f",
   "metadata": {},
   "outputs": [],
   "source": [
    "df_features = pd.DataFrame(features, columns=columns)"
   ]
  },
  {
   "cell_type": "code",
   "execution_count": 33,
   "id": "7b5d547f-324d-4f4a-a9a9-96442f80b685",
   "metadata": {},
   "outputs": [
    {
     "name": "stdout",
     "output_type": "stream",
     "text": [
      "Features extracted and saved to 'audio_features.csv'\n"
     ]
    }
   ],
   "source": [
    "# Save the features to a CSV file\n",
    "df_features.to_csv('/home/jovyan/teaching_material/MScProject/audio_features.csv', index=False)"
   ]
  },
  {
   "cell_type": "code",
   "execution_count": 47,
   "id": "e8a5b4e3-1773-4021-a308-d1190d71376f",
   "metadata": {},
   "outputs": [],
   "source": [
    "y = np.array(labels)"
   ]
  },
  {
   "cell_type": "code",
   "execution_count": 49,
   "id": "40c81068-c500-4eec-b4c3-e459baab7e1a",
   "metadata": {},
   "outputs": [],
   "source": [
    "# Perform Min-Max Scaling\n",
    "scaler = MinMaxScaler()\n",
    "X_scaled = scaler.fit_transform(df_features)"
   ]
  },
  {
   "cell_type": "code",
   "execution_count": 53,
   "id": "d5a78711-4ccf-4c3d-bfd1-e5c30d60eb5c",
   "metadata": {},
   "outputs": [],
   "source": [
    "# Perform PCA for dimensionality reduction\n",
    "pca = PCA(n_components=50)  # Adjust the number of components as needed\n",
    "X_pca = pca.fit_transform(X_scaled)"
   ]
  },
  {
   "cell_type": "code",
   "execution_count": 54,
   "id": "95d912e5-7421-4ed5-9c07-057521154698",
   "metadata": {},
   "outputs": [],
   "source": [
    "X_train, X_test, y_train, y_test = train_test_split(X_pca, y, test_size=0.2, random_state=42)"
   ]
  },
  {
   "cell_type": "code",
   "execution_count": 55,
   "id": "99c62a59-e4dd-4448-9c7a-0cb001a61bf4",
   "metadata": {},
   "outputs": [],
   "source": [
    "# Convert labels to categorical\n",
    "num_classes = len(np.unique(y))\n",
    "y_train_categorical = to_categorical(y_train - 1, num_classes=num_classes)  # Subtracting 1 to make labels 0-indexed\n",
    "y_test_categorical = to_categorical(y_test - 1, num_classes=num_classes)"
   ]
  },
  {
   "cell_type": "code",
   "execution_count": 58,
   "id": "36f592e2-bfea-4a26-85e5-a0c210a659e8",
   "metadata": {},
   "outputs": [],
   "source": [
    "# Reshape data for CNN input (samples, timesteps, features)\n",
    "X_train_cnn = np.expand_dims(X_train, axis=2)\n",
    "X_test_cnn = np.expand_dims(X_test, axis=2)"
   ]
  },
  {
   "cell_type": "code",
   "execution_count": 62,
   "id": "c2468866-e666-4769-a098-8a2ecc2c875f",
   "metadata": {},
   "outputs": [],
   "source": [
    "# Build the CNN model\n",
    "def create_model(optimizer='adam', init_mode='uniform'):\n",
    "    model = Sequential()\n",
    "    model.add(Conv1D(128, kernel_size=3, activation='relu', input_shape=(X_train_cnn.shape[1], 1)))\n",
    "    model.add(BatchNormalization())\n",
    "    model.add(MaxPooling1D(pool_size=2))\n",
    "    model.add(Dropout(0.5))\n",
    "\n",
    "    model.add(Conv1D(256, kernel_size=3, activation='relu'))\n",
    "    model.add(BatchNormalization())\n",
    "    model.add(MaxPooling1D(pool_size=2))\n",
    "    model.add(Dropout(0.5))\n",
    "\n",
    "    model.add(Conv1D(512, kernel_size=3, activation='relu'))\n",
    "    model.add(BatchNormalization())\n",
    "    model.add(MaxPooling1D(pool_size=2))\n",
    "    model.add(Dropout(0.5))\n",
    "\n",
    "    model.add(Flatten())\n",
    "    model.add(Dense(256, activation='relu'))\n",
    "    model.add(Dropout(0.5))\n",
    "    model.add(Dense(num_classes, activation='softmax'))\n",
    "    \n",
    "    model.compile(optimizer=optimizer, loss='categorical_crossentropy', metrics=['accuracy'])\n",
    "    return model\n"
   ]
  },
  {
   "cell_type": "code",
   "execution_count": 63,
   "id": "66ff75b0-9f21-4394-940f-79a7a6850611",
   "metadata": {},
   "outputs": [],
   "source": [
    "# Compile the model\n",
    "# model.compile(optimizer='adam', loss='categorical_crossentropy', metrics=['accuracy'])\n",
    "\n",
    "model = KerasClassifier(build_fn=create_model, verbose=0)\n",
    "optimizers = ['adam', 'rmsprop']\n",
    "init_modes = ['uniform', 'normal']\n",
    "epochs = [50, 100]\n",
    "batches = [32, 64]\n",
    "param_grid = dict(optimizer=optimizers, epochs=epochs, batch_size=batches, init_mode=init_modes)\n",
    "grid = GridSearchCV(estimator=model, param_grid=param_grid, n_jobs=-1, cv=3)\n",
    "grid_result = grid.fit(X_train_cnn, y_train_categorical)\n",
    "\n",
    "# Best parameters\n",
    "print(f\"Best: {grid_result.best_score_} using {grid_result.best_params_}\")"
   ]
  },
  {
   "cell_type": "code",
   "execution_count": 64,
   "id": "5f5ac6ad-1c30-4c34-874d-83620bd948f9",
   "metadata": {},
   "outputs": [
    {
     "name": "stdout",
     "output_type": "stream",
     "text": [
      "Epoch 1/50\n",
      "22/22 [==============================] - 2s 42ms/step - loss: 1.3743 - accuracy: 0.2825 - val_loss: 1.3577 - val_accuracy: 0.3964\n",
      "Epoch 2/50\n",
      "22/22 [==============================] - 1s 35ms/step - loss: 1.3399 - accuracy: 0.3964 - val_loss: 1.3301 - val_accuracy: 0.4793\n",
      "Epoch 3/50\n",
      "22/22 [==============================] - 1s 35ms/step - loss: 1.2935 - accuracy: 0.4379 - val_loss: 1.2786 - val_accuracy: 0.4970\n",
      "Epoch 4/50\n",
      "22/22 [==============================] - 1s 35ms/step - loss: 1.1928 - accuracy: 0.5178 - val_loss: 1.1794 - val_accuracy: 0.4852\n",
      "Epoch 5/50\n",
      "22/22 [==============================] - 1s 37ms/step - loss: 1.0492 - accuracy: 0.5562 - val_loss: 1.0608 - val_accuracy: 0.5444\n",
      "Epoch 6/50\n",
      "22/22 [==============================] - 1s 37ms/step - loss: 0.9257 - accuracy: 0.6331 - val_loss: 1.0188 - val_accuracy: 0.5799\n",
      "Epoch 7/50\n",
      "22/22 [==============================] - 1s 34ms/step - loss: 0.8565 - accuracy: 0.6731 - val_loss: 0.9574 - val_accuracy: 0.6036\n",
      "Epoch 8/50\n",
      "22/22 [==============================] - 1s 35ms/step - loss: 0.8094 - accuracy: 0.6820 - val_loss: 0.9384 - val_accuracy: 0.6272\n",
      "Epoch 9/50\n",
      "22/22 [==============================] - 1s 37ms/step - loss: 0.7662 - accuracy: 0.7056 - val_loss: 0.9044 - val_accuracy: 0.6331\n",
      "Epoch 10/50\n",
      "22/22 [==============================] - 1s 37ms/step - loss: 0.7550 - accuracy: 0.7071 - val_loss: 0.9193 - val_accuracy: 0.6509\n",
      "Epoch 11/50\n",
      "22/22 [==============================] - 1s 35ms/step - loss: 0.6827 - accuracy: 0.7337 - val_loss: 0.8952 - val_accuracy: 0.6509\n",
      "Epoch 12/50\n",
      "22/22 [==============================] - 1s 33ms/step - loss: 0.6732 - accuracy: 0.7322 - val_loss: 0.9005 - val_accuracy: 0.6272\n",
      "Epoch 13/50\n",
      "22/22 [==============================] - 1s 35ms/step - loss: 0.6408 - accuracy: 0.7530 - val_loss: 0.8395 - val_accuracy: 0.6686\n",
      "Epoch 14/50\n",
      "22/22 [==============================] - 1s 37ms/step - loss: 0.6116 - accuracy: 0.7589 - val_loss: 0.8665 - val_accuracy: 0.6509\n",
      "Epoch 15/50\n",
      "22/22 [==============================] - 1s 34ms/step - loss: 0.5728 - accuracy: 0.7604 - val_loss: 0.9058 - val_accuracy: 0.6568\n",
      "Epoch 16/50\n",
      "22/22 [==============================] - 1s 35ms/step - loss: 0.5869 - accuracy: 0.7692 - val_loss: 0.8940 - val_accuracy: 0.6331\n",
      "Epoch 17/50\n",
      "22/22 [==============================] - 1s 30ms/step - loss: 0.5138 - accuracy: 0.8180 - val_loss: 0.9152 - val_accuracy: 0.6686\n",
      "Epoch 18/50\n",
      "22/22 [==============================] - 1s 37ms/step - loss: 0.5085 - accuracy: 0.7988 - val_loss: 0.8523 - val_accuracy: 0.6686\n",
      "Epoch 19/50\n",
      "22/22 [==============================] - 1s 34ms/step - loss: 0.4878 - accuracy: 0.8240 - val_loss: 0.8687 - val_accuracy: 0.6746\n",
      "Epoch 20/50\n",
      "22/22 [==============================] - 1s 36ms/step - loss: 0.4757 - accuracy: 0.8225 - val_loss: 0.8444 - val_accuracy: 0.6746\n",
      "Epoch 21/50\n",
      "22/22 [==============================] - 1s 34ms/step - loss: 0.4657 - accuracy: 0.8225 - val_loss: 0.8702 - val_accuracy: 0.6391\n",
      "Epoch 22/50\n",
      "22/22 [==============================] - 1s 34ms/step - loss: 0.4151 - accuracy: 0.8491 - val_loss: 0.8498 - val_accuracy: 0.6509\n",
      "Epoch 23/50\n",
      "22/22 [==============================] - 1s 34ms/step - loss: 0.4172 - accuracy: 0.8550 - val_loss: 0.8503 - val_accuracy: 0.6568\n",
      "Epoch 24/50\n",
      "22/22 [==============================] - 1s 35ms/step - loss: 0.3853 - accuracy: 0.8639 - val_loss: 0.9197 - val_accuracy: 0.6746\n",
      "Epoch 25/50\n",
      "22/22 [==============================] - 1s 35ms/step - loss: 0.3742 - accuracy: 0.8609 - val_loss: 0.9935 - val_accuracy: 0.6627\n",
      "Epoch 26/50\n",
      "22/22 [==============================] - 1s 37ms/step - loss: 0.3745 - accuracy: 0.8639 - val_loss: 1.0167 - val_accuracy: 0.6923\n",
      "Epoch 27/50\n",
      "22/22 [==============================] - 1s 34ms/step - loss: 0.3545 - accuracy: 0.8891 - val_loss: 1.0375 - val_accuracy: 0.6686\n",
      "Epoch 28/50\n",
      "22/22 [==============================] - 1s 34ms/step - loss: 0.3206 - accuracy: 0.8757 - val_loss: 0.9639 - val_accuracy: 0.6864\n",
      "Epoch 29/50\n",
      "22/22 [==============================] - 1s 34ms/step - loss: 0.3089 - accuracy: 0.8772 - val_loss: 0.9066 - val_accuracy: 0.6746\n",
      "Epoch 30/50\n",
      "22/22 [==============================] - 1s 35ms/step - loss: 0.3042 - accuracy: 0.9009 - val_loss: 0.9364 - val_accuracy: 0.6923\n",
      "Epoch 31/50\n",
      "22/22 [==============================] - 1s 34ms/step - loss: 0.3079 - accuracy: 0.8994 - val_loss: 0.8835 - val_accuracy: 0.6746\n",
      "Epoch 32/50\n",
      "22/22 [==============================] - 1s 37ms/step - loss: 0.2818 - accuracy: 0.8935 - val_loss: 0.9153 - val_accuracy: 0.6509\n",
      "Epoch 33/50\n",
      "22/22 [==============================] - 1s 35ms/step - loss: 0.2383 - accuracy: 0.9246 - val_loss: 1.0088 - val_accuracy: 0.6864\n",
      "Epoch 34/50\n",
      "22/22 [==============================] - 1s 35ms/step - loss: 0.2527 - accuracy: 0.9112 - val_loss: 1.0181 - val_accuracy: 0.6805\n",
      "Epoch 35/50\n",
      "22/22 [==============================] - 1s 37ms/step - loss: 0.2254 - accuracy: 0.9334 - val_loss: 1.0261 - val_accuracy: 0.6864\n",
      "Epoch 36/50\n",
      "22/22 [==============================] - 1s 37ms/step - loss: 0.1991 - accuracy: 0.9453 - val_loss: 1.0088 - val_accuracy: 0.6864\n",
      "Epoch 37/50\n",
      "22/22 [==============================] - 1s 34ms/step - loss: 0.1977 - accuracy: 0.9290 - val_loss: 1.0425 - val_accuracy: 0.6746\n",
      "Epoch 38/50\n",
      "22/22 [==============================] - 1s 36ms/step - loss: 0.1684 - accuracy: 0.9571 - val_loss: 1.0422 - val_accuracy: 0.6686\n",
      "Epoch 39/50\n",
      "22/22 [==============================] - 1s 37ms/step - loss: 0.1569 - accuracy: 0.9541 - val_loss: 1.0997 - val_accuracy: 0.6686\n",
      "Epoch 40/50\n",
      "22/22 [==============================] - 1s 37ms/step - loss: 0.1428 - accuracy: 0.9556 - val_loss: 1.1237 - val_accuracy: 0.6568\n",
      "Epoch 41/50\n",
      "22/22 [==============================] - 1s 35ms/step - loss: 0.1384 - accuracy: 0.9541 - val_loss: 1.0916 - val_accuracy: 0.6568\n",
      "Epoch 42/50\n",
      "22/22 [==============================] - 1s 35ms/step - loss: 0.1353 - accuracy: 0.9645 - val_loss: 1.1644 - val_accuracy: 0.6805\n",
      "Epoch 43/50\n",
      "22/22 [==============================] - 1s 35ms/step - loss: 0.1459 - accuracy: 0.9453 - val_loss: 1.2357 - val_accuracy: 0.6627\n",
      "Epoch 44/50\n",
      "22/22 [==============================] - 1s 35ms/step - loss: 0.1444 - accuracy: 0.9601 - val_loss: 1.1701 - val_accuracy: 0.6509\n",
      "Epoch 45/50\n",
      "22/22 [==============================] - 1s 37ms/step - loss: 0.1228 - accuracy: 0.9675 - val_loss: 1.2001 - val_accuracy: 0.6568\n",
      "Epoch 46/50\n",
      "22/22 [==============================] - 1s 37ms/step - loss: 0.1264 - accuracy: 0.9527 - val_loss: 1.2657 - val_accuracy: 0.6627\n",
      "Epoch 47/50\n",
      "22/22 [==============================] - 1s 37ms/step - loss: 0.1160 - accuracy: 0.9704 - val_loss: 1.2371 - val_accuracy: 0.6686\n",
      "Epoch 48/50\n",
      "22/22 [==============================] - 1s 34ms/step - loss: 0.0991 - accuracy: 0.9778 - val_loss: 1.3704 - val_accuracy: 0.6627\n",
      "Epoch 49/50\n",
      "22/22 [==============================] - 1s 35ms/step - loss: 0.0919 - accuracy: 0.9749 - val_loss: 1.2451 - val_accuracy: 0.6686\n",
      "Epoch 50/50\n",
      "22/22 [==============================] - 1s 37ms/step - loss: 0.0784 - accuracy: 0.9778 - val_loss: 1.2929 - val_accuracy: 0.6509\n"
     ]
    },
    {
     "data": {
      "text/plain": [
       "<keras.src.callbacks.History at 0x7f556a423df0>"
      ]
     },
     "execution_count": 64,
     "metadata": {},
     "output_type": "execute_result"
    }
   ],
   "source": [
    "# Train the model\n",
    "# model.fit(X_train_cnn, y_train_categorical, epochs=100, batch_size=64, validation_data=(X_test_cnn, y_test_categorical))\n",
    "\n",
    "# Evaluate the model on the test set\n",
    "loss, accuracy = model.evaluate(X_test_cnn, y_test_categorical)\n",
    "print(f'Test Accuracy: {accuracy * 100:.2f}%')"
   ]
  },
  {
   "cell_type": "code",
   "execution_count": 65,
   "id": "8294f79a-6680-4d6f-813f-744ab6689fcd",
   "metadata": {},
   "outputs": [
    {
     "name": "stdout",
     "output_type": "stream",
     "text": [
      "6/6 [==============================] - 0s 3ms/step - loss: 1.2929 - accuracy: 0.6509\n",
      "Test Accuracy: 65.09%\n"
     ]
    }
   ],
   "source": [
    "# Evaluate the model on the test set\n",
    "loss, accuracy = model.evaluate(X_test_cnn, y_test_categorical)\n",
    "print(f'Test Accuracy: {accuracy * 100:.2f}%')"
   ]
  }
 ],
 "metadata": {
  "kernelspec": {
   "display_name": "Python 3 (ipykernel)",
   "language": "python",
   "name": "python3"
  },
  "language_info": {
   "codemirror_mode": {
    "name": "ipython",
    "version": 3
   },
   "file_extension": ".py",
   "mimetype": "text/x-python",
   "name": "python",
   "nbconvert_exporter": "python",
   "pygments_lexer": "ipython3",
   "version": "3.10.13"
  }
 },
 "nbformat": 4,
 "nbformat_minor": 5
}
